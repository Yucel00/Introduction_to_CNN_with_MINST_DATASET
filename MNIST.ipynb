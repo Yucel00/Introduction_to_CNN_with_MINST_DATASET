{
 "cells": [
  {
   "cell_type": "code",
   "execution_count": 1,
   "id": "a61742dc-93a1-406f-82b6-3707c0504906",
   "metadata": {},
   "outputs": [],
   "source": [
    "import tensorflow as tf\n",
    "from tensorflow import keras\n",
    "import matplotlib.pyplot as plt\n",
    "from sklearn.model_selection import train_test_split\n",
    "import numpy as np"
   ]
  },
  {
   "cell_type": "code",
   "execution_count": 2,
   "id": "9d682d0a-b435-4879-a1b8-97e67a45df4a",
   "metadata": {},
   "outputs": [],
   "source": [
    "(x_train,y_train),(x_test,y_test)=keras.datasets.mnist.load_data()"
   ]
  },
  {
   "cell_type": "code",
   "execution_count": 3,
   "id": "71e70014-3dfd-4e0f-a89f-ccd361b9726f",
   "metadata": {},
   "outputs": [
    {
     "name": "stdout",
     "output_type": "stream",
     "text": [
      "Egitim (Train) Verilerinin Sayisi Ve Bouyutu (60000, 28, 28, 1)\n",
      "Test Verilerinin Sayisi Ve Bouyutu (10000, 28, 28, 1)\n"
     ]
    }
   ],
   "source": [
    "#Veri on isleme Adim 1 Goruntulerin yeniden boyulandirilmasi\n",
    "\n",
    "x_train=x_train.reshape(-1,28,28,1) #-1 goruntunun toplam sayisi\n",
    "x_test=x_test.reshape(-1,28,28,1)\n",
    "\n",
    "#Veri on isleme Adim 2 Goruntulerin normalize edilmesi\n",
    "x_train=x_train.astype('float32')/255.0 #boyle yaptik ki 0 ve 1 arasina dussun\n",
    "x_test=x_test.astype('float32')/255.0 #boyle yaptik ki 0 ve 1 arasina dussun\n",
    "\n",
    "print(f\"Egitim (Train) Verilerinin Sayisi Ve Bouyutu {x_train.shape}\")\n",
    "print(f\"Test Verilerinin Sayisi Ve Bouyutu {x_test.shape}\")\n"
   ]
  },
  {
   "cell_type": "code",
   "execution_count": 4,
   "id": "9b8e47d7-980a-4d6a-ab39-1dd567194159",
   "metadata": {},
   "outputs": [
    {
     "data": {
      "text/plain": [
       "<matplotlib.image.AxesImage at 0x13707f25060>"
      ]
     },
     "execution_count": 4,
     "metadata": {},
     "output_type": "execute_result"
    },
    {
     "data": {
      "image/png": "[encoded data removed]",
      "text/plain": [
       "<Figure size 640x480 with 1 Axes>"
      ]
     },
     "metadata": {},
     "output_type": "display_data"
    }
   ],
   "source": [
    "#Cikis Verisi Olarak Bu Girdi Goruntulerinin Hangi Rakami Temsil Ettigini Gosteren Y verilerini Duzenliyoruz\n",
    "\n",
    "plt.imshow(x_train[50000],cmap='gray')"
   ]
  },
  {
   "cell_type": "code",
   "execution_count": 5,
   "id": "4c4bfda8-c22c-479c-a22a-c6885bd389ea",
   "metadata": {},
   "outputs": [
    {
     "data": {
      "text/plain": [
       "3"
      ]
     },
     "execution_count": 5,
     "metadata": {},
     "output_type": "execute_result"
    }
   ],
   "source": [
    "y_train[50000]"
   ]
  },
  {
   "cell_type": "code",
   "execution_count": 6,
   "id": "e31cc215-0506-4551-b2fa-46abb6a35848",
   "metadata": {},
   "outputs": [],
   "source": [
    "#One-Hot Encoding\n",
    "y_train=keras.utils.to_categorical(y_train,10)\n",
    "y_test=keras.utils.to_categorical(y_test,10)"
   ]
  },
  {
   "cell_type": "code",
   "execution_count": 7,
   "id": "c69365af-6b6f-4a37-938c-12aa5a6c8e4b",
   "metadata": {},
   "outputs": [
    {
     "data": {
      "text/plain": [
       "array([0., 0., 0., 1., 0., 0., 0., 0., 0., 0.], dtype=float32)"
      ]
     },
     "execution_count": 7,
     "metadata": {},
     "output_type": "execute_result"
    }
   ],
   "source": [
    "y_train[50000]"
   ]
  },
  {
   "cell_type": "code",
   "execution_count": 8,
   "id": "3ef17331-cd7b-4ef7-aa65-fda8c541862d",
   "metadata": {},
   "outputs": [],
   "source": [
    "#Egitim verilerinin %20 sinin dogrulama verisi olarak ayrilmasi buna litaraturde data split islemi denir bu islem genellikle sklearn alindaki traintestsplit fonk ile yapilir\n",
    "x_train,x_val,y_train_split,y_val=train_test_split(\n",
    "    x_train,y_train,\n",
    "    test_size=0.2,\n",
    "    random_state=42, #rastgelelik islemini biraz sinirli tutuyoruz\n",
    "    stratify=y_train#restgelee sekilde dagilim yaparken sinif dengesini koruruz\n",
    ")"
   ]
  },
  {
   "cell_type": "code",
   "execution_count": 29,
   "id": "df17459b-3f90-46d1-a471-71de9020fdce",
   "metadata": {},
   "outputs": [],
   "source": [
    "#cnn tabanli yapay zeka modelimizi olusturuyoruz\n",
    "model=keras.Sequential([\n",
    "    #CNN Ilk Blok\n",
    "    keras.layers.Conv2D(32,(3,3),activation='relu',input_shape=(28,28,1)),\n",
    "    keras.layers.BatchNormalization(),\n",
    "    \n",
    "    keras.layers.Conv2D(32,(3,3),activation='relu'),\n",
    "    keras.layers.BatchNormalization(),\n",
    "    keras.layers.MaxPooling2D((2,2)),\n",
    "    keras.layers.Dropout(0.25),\n",
    "\n",
    "\n",
    "    #CNN Ikinci Blok\n",
    "    keras.layers.Conv2D(64,(3,3),activation='relu'),\n",
    "    keras.layers.BatchNormalization(),\n",
    "    \n",
    "    keras.layers.Conv2D(64,(3,3),activation='relu'),\n",
    "    keras.layers.BatchNormalization(),\n",
    "    keras.layers.MaxPooling2D((2,2)),\n",
    "    keras.layers.Dropout(0.25),\n",
    "\n",
    "\n",
    "    #yapay sinir agini ayarliyoruz\n",
    "    keras.layers.Flatten(),\n",
    "    keras.layers.Dense(512,activation='relu'),\n",
    "    keras.layers.BatchNormalization(),\n",
    "    keras.layers.Dropout(0.5),\n",
    "    keras.layers.Dense(10,activation='softmax')\n",
    "    \n",
    "])\n"
   ]
  },
  {
   "cell_type": "code",
   "execution_count": 33,
   "id": "7823e784-1d1b-4839-a70e-8c67b3a01bbc",
   "metadata": {},
   "outputs": [],
   "source": [
    "#Modeli Derliyoruz\n",
    "model.compile(\n",
    "    optimizer='adam',\n",
    "    loss='categorical_crossentropy',\n",
    "    metrics=['accuracy']\n",
    ")"
   ]
  },
  {
   "cell_type": "code",
   "execution_count": 39,
   "id": "2d0e733f-74f3-4b63-b212-163d459700f9",
   "metadata": {},
   "outputs": [],
   "source": [
    "model_checkpoint=keras.callbacks.ModelCheckpoint(\n",
    "    'mnist_classification_cnn_model.h5',\n",
    "    save_best_only=True,\n",
    "    mode='max',\n",
    "    verbose=1\n",
    "    \n",
    "    \n",
    ")"
   ]
  },
  {
   "cell_type": "code",
   "execution_count": 45,
   "id": "efd80b4a-c8b7-4009-a62a-d96c6bcabe58",
   "metadata": {},
   "outputs": [
    {
     "name": "stdout",
     "output_type": "stream",
     "text": [
      "Epoch 1/10\n",
      "375/375 [==============================] - ETA: 0s - loss: 0.1884 - accuracy: 0.9443\n",
      "Epoch 1: val_loss improved from -inf to 4.50729, saving model to mnist_classification_cnn_model.h5\n",
      "375/375 [==============================] - 50s 132ms/step - loss: 0.1884 - accuracy: 0.9443 - val_loss: 4.5073 - val_accuracy: 0.1487\n",
      "Epoch 2/10\n",
      "375/375 [==============================] - ETA: 0s - loss: 0.0643 - accuracy: 0.9803\n",
      "Epoch 2: val_loss did not improve from 4.50729\n",
      "375/375 [==============================] - 51s 135ms/step - loss: 0.0643 - accuracy: 0.9803 - val_loss: 0.0405 - val_accuracy: 0.9869\n",
      "Epoch 3/10\n",
      "375/375 [==============================] - ETA: 0s - loss: 0.0473 - accuracy: 0.9854\n",
      "Epoch 3: val_loss did not improve from 4.50729\n",
      "375/375 [==============================] - 28s 75ms/step - loss: 0.0473 - accuracy: 0.9854 - val_loss: 0.0332 - val_accuracy: 0.9893\n",
      "Epoch 4/10\n",
      "375/375 [==============================] - ETA: 0s - loss: 0.0401 - accuracy: 0.9872\n",
      "Epoch 4: val_loss did not improve from 4.50729\n",
      "375/375 [==============================] - 28s 75ms/step - loss: 0.0401 - accuracy: 0.9872 - val_loss: 0.0300 - val_accuracy: 0.9916\n",
      "Epoch 5/10\n",
      "375/375 [==============================] - ETA: 0s - loss: 0.0334 - accuracy: 0.9893\n",
      "Epoch 5: val_loss did not improve from 4.50729\n",
      "375/375 [==============================] - 29s 76ms/step - loss: 0.0334 - accuracy: 0.9893 - val_loss: 0.0248 - val_accuracy: 0.9923\n",
      "Epoch 6/10\n",
      "375/375 [==============================] - ETA: 0s - loss: 0.0311 - accuracy: 0.9900\n",
      "Epoch 6: val_loss did not improve from 4.50729\n",
      "375/375 [==============================] - 29s 76ms/step - loss: 0.0311 - accuracy: 0.9900 - val_loss: 0.0273 - val_accuracy: 0.9924\n",
      "Epoch 7/10\n",
      "375/375 [==============================] - ETA: 0s - loss: 0.0287 - accuracy: 0.9906\n",
      "Epoch 7: val_loss did not improve from 4.50729\n",
      "375/375 [==============================] - 29s 77ms/step - loss: 0.0287 - accuracy: 0.9906 - val_loss: 0.0249 - val_accuracy: 0.9929\n",
      "Epoch 8/10\n",
      "375/375 [==============================] - ETA: 0s - loss: 0.0234 - accuracy: 0.9925\n",
      "Epoch 8: val_loss did not improve from 4.50729\n",
      "375/375 [==============================] - 29s 77ms/step - loss: 0.0234 - accuracy: 0.9925 - val_loss: 0.0224 - val_accuracy: 0.9932\n",
      "Epoch 9/10\n",
      "375/375 [==============================] - ETA: 0s - loss: 0.0229 - accuracy: 0.9924\n",
      "Epoch 9: val_loss did not improve from 4.50729\n",
      "375/375 [==============================] - 29s 78ms/step - loss: 0.0229 - accuracy: 0.9924 - val_loss: 0.0257 - val_accuracy: 0.9923\n",
      "Epoch 10/10\n",
      "375/375 [==============================] - ETA: 0s - loss: 0.0244 - accuracy: 0.9925\n",
      "Epoch 10: val_loss did not improve from 4.50729\n",
      "375/375 [==============================] - 29s 78ms/step - loss: 0.0244 - accuracy: 0.9925 - val_loss: 0.0239 - val_accuracy: 0.9930\n"
     ]
    }
   ],
   "source": [
    "history=model.fit(x_train,y_train_split,validation_data=(x_val,y_val),\n",
    "                  batch_size=128,epochs=10,callbacks=model_checkpoint)"
   ]
  },
  {
   "cell_type": "code",
   "execution_count": 49,
   "id": "fc4cdff2-c261-4599-9c9a-2552da0360d6",
   "metadata": {},
   "outputs": [
    {
     "name": "stdout",
     "output_type": "stream",
     "text": [
      "Test Islemi Icin Degerlendirme Yapiliyor\n",
      "313/313 [==============================] - 3s 9ms/step - loss: 0.0196 - accuracy: 0.9942\n",
      "Modelin Loss Performansi=0.019579941406846046\n",
      "Modelin Accuracy Performansi=0.9941999912261963\n"
     ]
    }
   ],
   "source": [
    "print(\"Test Islemi Icin Degerlendirme Yapiliyor\")\n",
    "test_loss,test_accuracy=model.evaluate(x_test,y_test)\n",
    "print(f\"Modelin Loss Performansi={test_loss}\")\n",
    "print(f\"Modelin Accuracy Performansi={test_accuracy}\")"
   ]
  },
  {
   "cell_type": "code",
   "execution_count": 53,
   "id": "291bec18-e240-4bb2-bf63-200e8686568d",
   "metadata": {},
   "outputs": [
    {
     "name": "stdout",
     "output_type": "stream",
     "text": [
      "domuz yukoladdin\n"
     ]
    }
   ],
   "source": [
    "print(\"domuz yukoladdin\")"
   ]
  },
  {
   "cell_type": "code",
   "execution_count": null,
   "id": "1a7dfc7a-c150-4f0c-bbcd-4c38cf2ed30c",
   "metadata": {},
   "outputs": [],
   "source": []
  }
 ],
 "metadata": {
  "kernelspec": {
   "display_name": "env_bst",
   "language": "python",
   "name": "env_bst"
  },
  "language_info": {
   "codemirror_mode": {
    "name": "ipython",
    "version": 3
   },
   "file_extension": ".py",
   "mimetype": "text/x-python",
   "name": "python",
   "nbconvert_exporter": "python",
   "pygments_lexer": "ipython3",
   "version": "3.10.10"
  }
 },
 "nbformat": 4,
 "nbformat_minor": 5
}
